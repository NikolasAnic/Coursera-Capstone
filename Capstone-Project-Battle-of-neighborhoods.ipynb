{
 "cells": [
  {
   "cell_type": "markdown",
   "metadata": {},
   "source": [
    "# Coursera Capstone Project: The Battle of Neighborhoods - Week 1 & 2"
   ]
  },
  {
   "cell_type": "markdown",
   "metadata": {},
   "source": [
    "## Week 1: Description of the problem as well as the data used for the project"
   ]
  },
  {
   "cell_type": "markdown",
   "metadata": {},
   "source": [
    "In the past few weeks, we introduced the notion of Geolocation, spatial data analysis and clustering. Doing so enabled us to retrieve geographic data for a given location and segment it into subcategories according to pre-defined characteristics. Unsupervised learning through k-meaned clustering provided us with the information necessary to analyze and compare the cities of New York as well as Toronto based on existing venues taken from FourSquare. \n",
    "\n",
    "Throughout this period, we gathered information about the existence and prevalence of the institutional composition within each neighborhood, making it possible to group the dataset and, potentially, derive assumptions regarding the socio-economic as well as cultural reality each subregion shows. \n",
    "\n",
    "In a next step, we can use this knowledge to help us define and form decisions based on economic considerations. Importantly, we can use the data to assess potential outcomes of opening certain venues, such as restaurants, cafés or bars, within a given neighborhood. Based on the data, we can see which subregions potentially are economically saturated and in which potential demand may exist. \n",
    "\n",
    "To follow this idea, we assume that we are a medium-priced Japanese franchise chain operating in the food and beverage industry (comparable to the likes of Vapiano - the (now insolvent) German food chain that offered Italian food). As we already analyzed both New York and Toronto, we plan on opening the first hub in Helsinki, the capital of Finland. \n",
    "\n",
    "Such decisions bear a wide range of important considerations about economic and social variables, which are great in number and sometimes impossible to assess in a quantifiable manner. Although the list is certainly not complete, one can define the following considerations as fulfilment criteria in order to derive a potential verdict: \n",
    "\n",
    "1. The neighborhood or district cannot be saturated within the food or beverage market. This implies that we are required to find a region which either does not offer what the company is trying to introduce or that, although supply is given, demand for the product is still available. As we are unable to measure the latter (for now) we focus on the first. \n",
    "\n",
    "2. The neighborhood or district must be frequently visited. This implies that the region should be located in an amusement area which is frequented preferably by both, the local consumers as well as tourists. This can be measured by analyzing the density of restaurants, bars and other venues as well as tourist attractions. \n",
    "\n",
    "3. The price level of our offering must suit the average income for the respective region. Especially, we cannot introduce an offering with prices highly above the paying ability of the societal environment. Although this is especially hard to measure, a potential solution may lie in the analysis of average rental prices, if available. Also, the availability of services such as uber or airbnb may lead to a better understanding of the respective socio-economic status of the individual regions. \n",
    "\n",
    "In order to make an adequate assessment, I will use the data from Finnish public sources as well as FourSquare to retrieve both the geographic composition as well as the venues. Further, I will create a data set in which each region shows average house prices and in which AirBnB is available (potentially also to what extent). We will use the Foursquare data to assess which regions are potentially already saturated for Chinese food by looking at both the existence as well as prevalence of certain food types and assess tourist hotspots by looking at the existence of attractions and general availability of venues. Further, we can assess the average house prices from local sources and also AirBnB as indicators defining average income. \n",
    "\n",
    "Once all factors are included, I will perform a k-means clustering analysis which shows the respective clusters in which an opening appears to be interesting and, if time permits, perform a more detailed analysis of the respective regions. Importantly we are looking for a region that is: \n",
    "\n",
    "1. Economically viable\n",
    "2. Has a strong amusement area and is preferably located in a tourist area\n",
    "3. Is frequently visited \n",
    "4. Has not already existing strong Japanese food scene\n",
    "3. Has AirBnB available and fairly even rental prices \n",
    "\n",
    "In the end, I will deliver a graphical representation of the region and a clustering output on which I will base my assessment. \n"
   ]
  },
  {
   "cell_type": "markdown",
   "metadata": {},
   "source": [
    "## Week 2: Analysis and implementation of the code"
   ]
  },
  {
   "cell_type": "code",
   "execution_count": null,
   "metadata": {},
   "outputs": [],
   "source": []
  }
 ],
 "metadata": {
  "kernelspec": {
   "display_name": "Python 3",
   "language": "python",
   "name": "python3"
  },
  "language_info": {
   "codemirror_mode": {
    "name": "ipython",
    "version": 3
   },
   "file_extension": ".py",
   "mimetype": "text/x-python",
   "name": "python",
   "nbconvert_exporter": "python",
   "pygments_lexer": "ipython3",
   "version": "3.7.4"
  }
 },
 "nbformat": 4,
 "nbformat_minor": 4
}
